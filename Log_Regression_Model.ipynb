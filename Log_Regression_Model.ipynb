{
 "cells": [
  {
   "cell_type": "code",
   "execution_count": 23,
   "id": "53d44b8d-1c04-4b35-9f2f-28d1f6ad48c4",
   "metadata": {
    "tags": []
   },
   "outputs": [],
   "source": [
    "import pandas as pd\n",
    "from sklearn.model_selection import train_test_split, cross_val_score\n",
    "from sklearn.linear_model import LogisticRegression\n",
    "from sklearn.metrics import classification_report, roc_auc_score, roc_curve\n",
    "import joblib\n",
    "import matplotlib.pyplot as plt"
   ]
  },
  {
   "cell_type": "code",
   "execution_count": 24,
   "id": "920c5461-927b-4f17-bad1-6760a63e898a",
   "metadata": {
    "tags": []
   },
   "outputs": [],
   "source": [
    "# 1. Load & Clean\n",
    "df = pd.read_csv('/Users/aj/Desktop/University_Work/4A/MSE 436/Project/hotel_bookings.csv')       \n",
    "df = df.drop_duplicates()\n",
    "df = df.drop(columns=['agent', 'company'])\n",
    "df = df[df['market_segment'] != 'Undefined']\n",
    "df['arrival_date'] = pd.to_datetime(\n",
    "    df['arrival_date_year'].astype(str) + '-' +\n",
    "    df['arrival_date_month'] + '-' +\n",
    "    df['arrival_date_day_of_month'].astype(str),\n",
    "    format='%Y-%B-%d'\n",
    ")\n",
    "df['total_nights'] = df['stays_in_weekend_nights'] + df['stays_in_week_nights']\n",
    "df['total_guests'] = (\n",
    "    df['adults'] + df['children'].fillna(0) + df['babies']\n",
    ").astype(int)"
   ]
  },
  {
   "cell_type": "code",
   "execution_count": 25,
   "id": "de2d8d5b-292a-488c-8577-9c7832fc85bc",
   "metadata": {
    "tags": []
   },
   "outputs": [],
   "source": [
    "# 2. Preprocess function\n",
    "def preprocess(df):\n",
    "    numeric = [\n",
    "        'lead_time', 'arrival_date_week_number', 'arrival_date_day_of_month',\n",
    "        'total_nights', 'adults', 'children', 'babies', 'total_guests',\n",
    "        'previous_cancellations', 'previous_bookings_not_canceled',\n",
    "        'booking_changes', 'days_in_waiting_list',\n",
    "        'required_car_parking_spaces', 'total_of_special_requests'\n",
    "    ]\n",
    "    categorical = [\n",
    "        'hotel', 'meal', 'market_segment', 'distribution_channel',\n",
    "        'reserved_room_type', 'deposit_type', 'customer_type'\n",
    "    ]\n",
    "    df_model = df[numeric + categorical + ['is_canceled']].dropna()\n",
    "    df_model = pd.get_dummies(df_model, columns=categorical, drop_first=True)\n",
    "    X = df_model.drop('is_canceled', axis=1)\n",
    "    y = df_model['is_canceled']\n",
    "    return X, y"
   ]
  },
  {
   "cell_type": "code",
   "execution_count": 26,
   "id": "aed24f80-3563-47b4-b438-897801b726ab",
   "metadata": {
    "tags": []
   },
   "outputs": [],
   "source": [
    "# 3. Split\n",
    "X, y = preprocess(df)\n",
    "X_train, X_test, y_train, y_test = train_test_split(\n",
    "    X, y, test_size=0.2, random_state=42, stratify=y\n",
    ")"
   ]
  },
  {
   "cell_type": "code",
   "execution_count": 27,
   "id": "16c2df43-5538-4da0-8230-73f7709922d5",
   "metadata": {
    "tags": []
   },
   "outputs": [
    {
     "data": {
      "text/html": [
       "<style>#sk-container-id-2 {color: black;}#sk-container-id-2 pre{padding: 0;}#sk-container-id-2 div.sk-toggleable {background-color: white;}#sk-container-id-2 label.sk-toggleable__label {cursor: pointer;display: block;width: 100%;margin-bottom: 0;padding: 0.3em;box-sizing: border-box;text-align: center;}#sk-container-id-2 label.sk-toggleable__label-arrow:before {content: \"▸\";float: left;margin-right: 0.25em;color: #696969;}#sk-container-id-2 label.sk-toggleable__label-arrow:hover:before {color: black;}#sk-container-id-2 div.sk-estimator:hover label.sk-toggleable__label-arrow:before {color: black;}#sk-container-id-2 div.sk-toggleable__content {max-height: 0;max-width: 0;overflow: hidden;text-align: left;background-color: #f0f8ff;}#sk-container-id-2 div.sk-toggleable__content pre {margin: 0.2em;color: black;border-radius: 0.25em;background-color: #f0f8ff;}#sk-container-id-2 input.sk-toggleable__control:checked~div.sk-toggleable__content {max-height: 200px;max-width: 100%;overflow: auto;}#sk-container-id-2 input.sk-toggleable__control:checked~label.sk-toggleable__label-arrow:before {content: \"▾\";}#sk-container-id-2 div.sk-estimator input.sk-toggleable__control:checked~label.sk-toggleable__label {background-color: #d4ebff;}#sk-container-id-2 div.sk-label input.sk-toggleable__control:checked~label.sk-toggleable__label {background-color: #d4ebff;}#sk-container-id-2 input.sk-hidden--visually {border: 0;clip: rect(1px 1px 1px 1px);clip: rect(1px, 1px, 1px, 1px);height: 1px;margin: -1px;overflow: hidden;padding: 0;position: absolute;width: 1px;}#sk-container-id-2 div.sk-estimator {font-family: monospace;background-color: #f0f8ff;border: 1px dotted black;border-radius: 0.25em;box-sizing: border-box;margin-bottom: 0.5em;}#sk-container-id-2 div.sk-estimator:hover {background-color: #d4ebff;}#sk-container-id-2 div.sk-parallel-item::after {content: \"\";width: 100%;border-bottom: 1px solid gray;flex-grow: 1;}#sk-container-id-2 div.sk-label:hover label.sk-toggleable__label {background-color: #d4ebff;}#sk-container-id-2 div.sk-serial::before {content: \"\";position: absolute;border-left: 1px solid gray;box-sizing: border-box;top: 0;bottom: 0;left: 50%;z-index: 0;}#sk-container-id-2 div.sk-serial {display: flex;flex-direction: column;align-items: center;background-color: white;padding-right: 0.2em;padding-left: 0.2em;position: relative;}#sk-container-id-2 div.sk-item {position: relative;z-index: 1;}#sk-container-id-2 div.sk-parallel {display: flex;align-items: stretch;justify-content: center;background-color: white;position: relative;}#sk-container-id-2 div.sk-item::before, #sk-container-id-2 div.sk-parallel-item::before {content: \"\";position: absolute;border-left: 1px solid gray;box-sizing: border-box;top: 0;bottom: 0;left: 50%;z-index: -1;}#sk-container-id-2 div.sk-parallel-item {display: flex;flex-direction: column;z-index: 1;position: relative;background-color: white;}#sk-container-id-2 div.sk-parallel-item:first-child::after {align-self: flex-end;width: 50%;}#sk-container-id-2 div.sk-parallel-item:last-child::after {align-self: flex-start;width: 50%;}#sk-container-id-2 div.sk-parallel-item:only-child::after {width: 0;}#sk-container-id-2 div.sk-dashed-wrapped {border: 1px dashed gray;margin: 0 0.4em 0.5em 0.4em;box-sizing: border-box;padding-bottom: 0.4em;background-color: white;}#sk-container-id-2 div.sk-label label {font-family: monospace;font-weight: bold;display: inline-block;line-height: 1.2em;}#sk-container-id-2 div.sk-label-container {text-align: center;}#sk-container-id-2 div.sk-container {/* jupyter's `normalize.less` sets `[hidden] { display: none; }` but bootstrap.min.css set `[hidden] { display: none !important; }` so we also need the `!important` here to be able to override the default hidden behavior on the sphinx rendered scikit-learn.org. See: https://github.com/scikit-learn/scikit-learn/issues/21755 */display: inline-block !important;position: relative;}#sk-container-id-2 div.sk-text-repr-fallback {display: none;}</style><div id=\"sk-container-id-2\" class=\"sk-top-container\"><div class=\"sk-text-repr-fallback\"><pre>LogisticRegression(class_weight=&#x27;balanced&#x27;, max_iter=1000, solver=&#x27;liblinear&#x27;)</pre><b>In a Jupyter environment, please rerun this cell to show the HTML representation or trust the notebook. <br />On GitHub, the HTML representation is unable to render, please try loading this page with nbviewer.org.</b></div><div class=\"sk-container\" hidden><div class=\"sk-item\"><div class=\"sk-estimator sk-toggleable\"><input class=\"sk-toggleable__control sk-hidden--visually\" id=\"sk-estimator-id-2\" type=\"checkbox\" checked><label for=\"sk-estimator-id-2\" class=\"sk-toggleable__label sk-toggleable__label-arrow\">LogisticRegression</label><div class=\"sk-toggleable__content\"><pre>LogisticRegression(class_weight=&#x27;balanced&#x27;, max_iter=1000, solver=&#x27;liblinear&#x27;)</pre></div></div></div></div></div>"
      ],
      "text/plain": [
       "LogisticRegression(class_weight='balanced', max_iter=1000, solver='liblinear')"
      ]
     },
     "execution_count": 27,
     "metadata": {},
     "output_type": "execute_result"
    }
   ],
   "source": [
    "# 4. Train Logistic Regression\n",
    "model = LogisticRegression(solver='liblinear', max_iter=1000, class_weight='balanced')\n",
    "model.fit(X_train, y_train)"
   ]
  },
  {
   "cell_type": "code",
   "execution_count": 28,
   "id": "a6e56df2-31b4-4aca-8c4f-c1e8ca9f2170",
   "metadata": {
    "tags": []
   },
   "outputs": [
    {
     "name": "stdout",
     "output_type": "stream",
     "text": [
      "5-fold CV ROC AUC: 0.794 ± 0.004\n"
     ]
    }
   ],
   "source": [
    "# 5. Cross-Validation (ROC AUC)\n",
    "cv_auc = cross_val_score(model, X_train, y_train, cv=5, scoring='roc_auc')\n",
    "print(f\"5-fold CV ROC AUC: {cv_auc.mean():.3f} ± {cv_auc.std():.3f}\")"
   ]
  },
  {
   "cell_type": "code",
   "execution_count": 29,
   "id": "95ff70ea-ba17-4127-b651-990a844f577b",
   "metadata": {
    "tags": []
   },
   "outputs": [
    {
     "name": "stdout",
     "output_type": "stream",
     "text": [
      "\n",
      "Test Classification Report:\n",
      "              precision    recall  f1-score   support\n",
      "\n",
      "           0       0.88      0.68      0.76     12675\n",
      "           1       0.47      0.75      0.58      4804\n",
      "\n",
      "    accuracy                           0.70     17479\n",
      "   macro avg       0.67      0.71      0.67     17479\n",
      "weighted avg       0.76      0.70      0.71     17479\n",
      "\n",
      "Test ROC AUC: 0.791\n"
     ]
    }
   ],
   "source": [
    "# 6. Test Evaluation\n",
    "y_pred = model.predict(X_test)\n",
    "y_proba = model.predict_proba(X_test)[:, 1]\n",
    "print(\"\\nTest Classification Report:\")\n",
    "print(classification_report(y_test, y_pred))\n",
    "print(f\"Test ROC AUC: {roc_auc_score(y_test, y_proba):.3f}\")"
   ]
  },
  {
   "cell_type": "code",
   "execution_count": 30,
   "id": "703c9def-6900-49b8-8bdc-7a209aab962f",
   "metadata": {
    "tags": []
   },
   "outputs": [
    {
     "name": "stdout",
     "output_type": "stream",
     "text": [
      "\n",
      "Top Positive & Negative Coefficients:\n",
      "required_car_parking_spaces      -6.049366\n",
      "market_segment_Offline TA/TO     -1.242505\n",
      "total_of_special_requests        -0.604962\n",
      "market_segment_Groups            -0.554890\n",
      "distribution_channel_GDS         -0.512323\n",
      "previous_bookings_not_canceled   -0.331887\n",
      "booking_changes                  -0.313077\n",
      "market_segment_Direct            -0.307988\n",
      "market_segment_Corporate         -0.211616\n",
      "customer_type_Group              -0.183624\n",
      "meal_Undefined                    0.303779\n",
      "reserved_room_type_C              0.369196\n",
      "reserved_room_type_H              0.388702\n",
      "market_segment_Online TA          0.427817\n",
      "meal_FB                           0.623362\n",
      "customer_type_Transient           0.751744\n",
      "deposit_type_Refundable           0.829315\n",
      "reserved_room_type_P              1.662841\n",
      "previous_cancellations            1.902505\n",
      "deposit_type_Non Refund           3.591054\n"
     ]
    }
   ],
   "source": [
    "# 7. Coefficient Interpretation\n",
    "coefs = pd.Series(model.coef_[0], index=X_train.columns).sort_values()\n",
    "top_features = pd.concat([coefs.head(10), coefs.tail(10)])\n",
    "print(\"\\nTop Positive & Negative Coefficients:\")\n",
    "print(top_features.to_string())"
   ]
  },
  {
   "cell_type": "code",
   "execution_count": 31,
   "id": "5f1f96a1-cec7-443a-bca7-3806a31a889d",
   "metadata": {
    "tags": []
   },
   "outputs": [
    {
     "data": {
      "image/png": "[encoded data removed]",
      "text/plain": [
       "<Figure size 640x480 with 1 Axes>"
      ]
     },
     "metadata": {},
     "output_type": "display_data"
    }
   ],
   "source": [
    "# 8. ROC Curve\n",
    "fpr, tpr, _ = roc_curve(y_test, y_proba)\n",
    "plt.plot(fpr, tpr)\n",
    "plt.xlabel('False Positive Rate')\n",
    "plt.ylabel('True Positive Rate')\n",
    "plt.title('ROC Curve for Logistic Regression')\n",
    "plt.show()"
   ]
  },
  {
   "cell_type": "code",
   "execution_count": 32,
   "id": "c423ede7-404f-4bd2-a8e6-fd575236916f",
   "metadata": {
    "tags": []
   },
   "outputs": [
    {
     "data": {
      "text/plain": [
       "['model_section_logreg.pkl']"
      ]
     },
     "execution_count": 32,
     "metadata": {},
     "output_type": "execute_result"
    }
   ],
   "source": [
    "# 9. Save Model\n",
    "joblib.dump((model, X.columns.tolist()), 'model_section_logreg.pkl')"
   ]
  },
  {
   "cell_type": "code",
   "execution_count": null,
   "id": "b5a12ce2-16b5-4aee-a111-7aa87ce047d0",
   "metadata": {},
   "outputs": [],
   "source": []
  }
 ],
 "metadata": {
  "kernelspec": {
   "display_name": "Python 3 (ipykernel)",
   "language": "python",
   "name": "python3"
  },
  "language_info": {
   "codemirror_mode": {
    "name": "ipython",
    "version": 3
   },
   "file_extension": ".py",
   "mimetype": "text/x-python",
   "name": "python",
   "nbconvert_exporter": "python",
   "pygments_lexer": "ipython3",
   "version": "3.11.5"
  }
 },
 "nbformat": 4,
 "nbformat_minor": 5
}
